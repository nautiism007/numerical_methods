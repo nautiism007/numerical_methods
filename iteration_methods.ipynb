{
 "cells": [
  {
   "cell_type": "markdown",
   "metadata": {},
   "source": [
    "## Simple iteration methods\n",
    "\n",
    "\n",
    "1. Rearrange equation: \n",
    "\n",
    "$x^2 -2x + 8 = 0 $\n",
    "\n",
    "$ x = 0.5x^2 + 4 $\n",
    "\n",
    "$ x = \\sqrt{2x - 8} $\n",
    "\n",
    "2. Assume: \n",
    "\n",
    "An initial value to start the first iteration\n",
    "\n",
    "3. Substitute: \n",
    "\n",
    "$x_{new} =  0.5x^2 + 4 $\n",
    "\n",
    "4. If the new value is different from the pewvious value we consider the new values as the current value\n",
    "\n",
    "5. Stop after N number of iteration"
   ]
  },
  {
   "cell_type": "code",
   "execution_count": 20,
   "metadata": {},
   "outputs": [
    {
     "name": "stdout",
     "output_type": "stream",
     "text": [
      "50 0.9999966081647822\n"
     ]
    }
   ],
   "source": [
    "x = 0 #try 1.6\n",
    "for i in range(100):\n",
    "    xnew = (2*x**2 + 3)/5\n",
    "    if abs(xnew - x)< 1e-6:\n",
    "        break\n",
    "    x = xnew\n",
    "\n",
    "print(i+1,xnew)"
   ]
  },
  {
   "cell_type": "code",
   "execution_count": 25,
   "metadata": {},
   "outputs": [
    {
     "name": "stdout",
     "output_type": "stream",
     "text": [
      "54 1.5000045513190114\n"
     ]
    }
   ],
   "source": [
    "import math\n",
    "x = 1.6\n",
    "values = []\n",
    "for i in range(100):\n",
    "    xnew = math.sqrt((5*x-3)/2)\n",
    "    values.append([xnew,x])\n",
    "    if abs(xnew - x)< 1e-6:\n",
    "        break\n",
    "    x = xnew\n",
    "\n",
    "print(i+1,xnew)"
   ]
  },
  {
   "cell_type": "markdown",
   "metadata": {},
   "source": [
    "### Convegence"
   ]
  },
  {
   "cell_type": "code",
   "execution_count": 30,
   "metadata": {},
   "outputs": [
    {
     "data": {
      "text/plain": [
       "<Axes: >"
      ]
     },
     "execution_count": 30,
     "metadata": {},
     "output_type": "execute_result"
    },
    {
     "data": {
      "image/png": "[encoded data removed]",
      "text/plain": [
       "<Figure size 640x480 with 1 Axes>"
      ]
     },
     "metadata": {},
     "output_type": "display_data"
    }
   ],
   "source": [
    "pd.DataFrame(values,columns = ['xnew','x']).plot(grid=True)"
   ]
  },
  {
   "cell_type": "markdown",
   "metadata": {},
   "source": [
    "### Newton Rhapson Method\n",
    "\n",
    "Find the root of high degree equations - additonally using derivatives\n",
    "\n",
    "$f(x) = 2x^2 - 5x + 3$\n",
    "\n",
    "derivative: $ f'(x) = 4x-5$\n",
    "\n",
    "$ x_{new} = x - \\Large\\frac{2x^2 - 5x + 3}{4x - 5} $ \n",
    "\n",
    "Intuition: https://medium.com/@xinyu.chen/intuitive-understanding-of-newton-raphson-method-19fff4fdf75d"
   ]
  },
  {
   "cell_type": "code",
   "execution_count": 33,
   "metadata": {},
   "outputs": [
    {
     "name": "stdout",
     "output_type": "stream",
     "text": [
      "6 1.5000000001164153\n"
     ]
    }
   ],
   "source": [
    "x = 2\n",
    "for i in range(1,101):\n",
    "    xnew = x - (2*x**2 - 5*x + 3)/(4*x - 5)\n",
    "    if abs(xnew -x)< 0.000001:\n",
    "        break\n",
    "    x = xnew\n",
    "print(i,x)"
   ]
  },
  {
   "cell_type": "markdown",
   "metadata": {},
   "source": [
    "$ f(x) = x^2 - cos^2x - 4x = 0$\n",
    "\n",
    "$ f'(x) = 2(x - cosxsinx -2) $\n",
    "\n",
    "$ x_{new} = x - \\Large\\frac{f(x)}{f'(x)} $"
   ]
  },
  {
   "cell_type": "code",
   "execution_count": 38,
   "metadata": {},
   "outputs": [
    {
     "name": "stdout",
     "output_type": "stream",
     "text": [
      "7 3.850299794808786\n"
     ]
    }
   ],
   "source": [
    "from math import cos, sin\n",
    "x = 10\n",
    "for i in range(1,101):\n",
    "    xnew = x - (x**2 + cos(x)**2 -4*x)/(2*(x - cos(x)*sin(x)- 2))\n",
    "    if abs(xnew -x)< 0.000001:\n",
    "        break\n",
    "    x = xnew\n",
    "print(i,x)"
   ]
  },
  {
   "cell_type": "markdown",
   "metadata": {},
   "source": [
    "### Bisection method\n",
    "\n",
    "Look for points where x of opposite signs is present. The expected root might lie in between them.\n",
    "\n",
    "$f(x) = 2x^2 - 5x + 3$"
   ]
  },
  {
   "cell_type": "code",
   "execution_count": 41,
   "metadata": {},
   "outputs": [
    {
     "name": "stdout",
     "output_type": "stream",
     "text": [
      "1 1\n"
     ]
    }
   ],
   "source": [
    "x1 = 1\n",
    "x2 = 2\n",
    "\n",
    "def f(x):\n",
    "    return 2*x**2 - 5*x + 3\n",
    "\n",
    "y1 = f(x1)\n",
    "y2 = f(x2)\n",
    "\n",
    "if y1*y2>0:\n",
    "    exit\n",
    "\n",
    "for bisect in range(1,101):\n",
    "    xh = (x1 + x2)/2\n",
    "    yh = f(xh)\n",
    "\n",
    "    if abs(y1) < 1.0E-6:\n",
    "        break\n",
    "    elif y1* yh < 0:\n",
    "        x2 = xh\n",
    "    else:\n",
    "        x1 = xh\n",
    "print(x1,bisect)"
   ]
  },
  {
   "cell_type": "code",
   "execution_count": 44,
   "metadata": {},
   "outputs": [],
   "source": [
    "from scipy.optimize import newton, bisect, fsolve, root\n",
    "# Root finding\n",
    "\n",
    "f = lambda x: 2*x**2 - 5*x + 3"
   ]
  },
  {
   "cell_type": "code",
   "execution_count": 45,
   "metadata": {},
   "outputs": [
    {
     "data": {
      "text/plain": [
       "0.9999999999999999"
      ]
     },
     "execution_count": 45,
     "metadata": {},
     "output_type": "execute_result"
    }
   ],
   "source": [
    "newton(f,0)"
   ]
  },
  {
   "cell_type": "code",
   "execution_count": 46,
   "metadata": {},
   "outputs": [
    {
     "data": {
      "text/plain": [
       "1.4999999999999996"
      ]
     },
     "execution_count": 46,
     "metadata": {},
     "output_type": "execute_result"
    }
   ],
   "source": [
    "newton(f,2)"
   ]
  },
  {
   "cell_type": "code",
   "execution_count": 50,
   "metadata": {},
   "outputs": [
    {
     "data": {
      "text/plain": [
       "1.5"
      ]
     },
     "execution_count": 50,
     "metadata": {},
     "output_type": "execute_result"
    }
   ],
   "source": [
    "bisect(f,1.2,2)"
   ]
  },
  {
   "cell_type": "code",
   "execution_count": 58,
   "metadata": {},
   "outputs": [
    {
     "data": {
      "text/plain": [
       "array([1. , 1. , 1.5])"
      ]
     },
     "execution_count": 58,
     "metadata": {},
     "output_type": "execute_result"
    }
   ],
   "source": [
    "fsolve(f,[1,1.1,4])"
   ]
  },
  {
   "cell_type": "code",
   "execution_count": 60,
   "metadata": {},
   "outputs": [
    {
     "data": {
      "text/plain": [
       " message: The solution converged.\n",
       " success: True\n",
       "  status: 1\n",
       "     fun: [-1.137e-13]\n",
       "       x: [ 1.000e+00]\n",
       "    nfev: 8\n",
       "    fjac: [[-1.000e+00]]\n",
       "       r: [ 1.000e+00]\n",
       "     qtf: [ 7.451e-09]"
      ]
     },
     "execution_count": 60,
     "metadata": {},
     "output_type": "execute_result"
    }
   ],
   "source": [
    "root(f,1.1)"
   ]
  },
  {
   "cell_type": "code",
   "execution_count": null,
   "metadata": {},
   "outputs": [],
   "source": []
  }
 ],
 "metadata": {
  "kernelspec": {
   "display_name": "Python 3 (ipykernel)",
   "language": "python",
   "name": "python3"
  },
  "language_info": {
   "codemirror_mode": {
    "name": "ipython",
    "version": 3
   },
   "file_extension": ".py",
   "mimetype": "text/x-python",
   "name": "python",
   "nbconvert_exporter": "python",
   "pygments_lexer": "ipython3",
   "version": "3.8.10"
  },
  "orig_nbformat": 4
 },
 "nbformat": 4,
 "nbformat_minor": 2
}
