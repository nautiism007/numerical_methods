{
 "cells": [
  {
   "cell_type": "markdown",
   "metadata": {},
   "source": [
    "## Simple iteration methods\n",
    "\n",
    "\n",
    "1. Rearrange equation: \n",
    "\n",
    "$x^2 -2x + 8 = 0 $\n",
    "\n",
    "$ x = 0.5x^2 + 4 $\n",
    "\n",
    "$ x = \\sqrt{2x - 8} $\n",
    "\n",
    "2. Assume: \n",
    "\n",
    "An initial value to start the first iteration\n",
    "\n",
    "3. Substitute: \n",
    "\n",
    "$x_{new} =  0.5x^2 + 4 $\n",
    "\n",
    "4. If the new value is different from the pewvious value we consider the new values as the current value\n",
    "\n",
    "5. Stop after N number of iteration"
   ]
  },
  {
   "cell_type": "code",
   "execution_count": 20,
   "metadata": {},
   "outputs": [
    {
     "name": "stdout",
     "output_type": "stream",
     "text": [
      "50 0.9999966081647822\n"
     ]
    }
   ],
   "source": [
    "x = 0 #try 1.6\n",
    "for i in range(100):\n",
    "    xnew = (2*x**2 + 3)/5\n",
    "    if abs(xnew - x)< 1e-6:\n",
    "        break\n",
    "    x = xnew\n",
    "\n",
    "print(i+1,xnew)"
   ]
  },
  {
   "cell_type": "code",
   "execution_count": 22,
   "metadata": {},
   "outputs": [
    {
     "name": "stdout",
     "output_type": "stream",
     "text": [
      "54 1.5000045513190114\n"
     ]
    }
   ],
   "source": [
    "import math\n",
    "x = 1.6\n",
    "for i in range(100):\n",
    "    xnew = math.sqrt((5*x-3)/2)\n",
    "    if abs(xnew - x)< 1e-6:\n",
    "        break\n",
    "    x = xnew\n",
    "\n",
    "print(i+1,xnew)"
   ]
  },
  {
   "cell_type": "markdown",
   "metadata": {},
   "source": [
    "### Convegence"
   ]
  },
  {
   "cell_type": "code",
   "execution_count": null,
   "metadata": {},
   "outputs": [],
   "source": []
  }
 ],
 "metadata": {
  "kernelspec": {
   "display_name": "Python 3 (ipykernel)",
   "language": "python",
   "name": "python3"
  },
  "language_info": {
   "codemirror_mode": {
    "name": "ipython",
    "version": 3
   },
   "file_extension": ".py",
   "mimetype": "text/x-python",
   "name": "python",
   "nbconvert_exporter": "python",
   "pygments_lexer": "ipython3",
   "version": "3.8.10"
  },
  "orig_nbformat": 4
 },
 "nbformat": 4,
 "nbformat_minor": 2
}
