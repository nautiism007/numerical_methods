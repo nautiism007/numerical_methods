{
 "cells": [
  {
   "cell_type": "code",
   "execution_count": 61,
   "metadata": {},
   "outputs": [],
   "source": [
    "import numpy as np"
   ]
  },
  {
   "cell_type": "markdown",
   "metadata": {},
   "source": [
    "### Finite differences \n",
    "\n",
    "$f(x) = 0.1x^5 - 0.2x^3 + 0.1x - 0.2$\n",
    "\n",
    "First and second derivative calculation"
   ]
  },
  {
   "cell_type": "code",
   "execution_count": 69,
   "metadata": {},
   "outputs": [],
   "source": [
    "f = lambda x: 0.1*x**5 -0.2*x**3 + 0.1*x + 0.2\n",
    "h = 0.001\n",
    "x = 0.1"
   ]
  },
  {
   "cell_type": "markdown",
   "metadata": {},
   "source": [
    "#### Forward differences method"
   ]
  },
  {
   "cell_type": "code",
   "execution_count": 70,
   "metadata": {},
   "outputs": [
    {
     "name": "stdout",
     "output_type": "stream",
     "text": [
      "0.09399081005009857 -0.11913929701123926\n"
     ]
    }
   ],
   "source": [
    "dff1 = (f(x+h) - f(x))/h\n",
    "dff2 = (f(x+2*h) - 2*f(x+h) + f(x))/h**2\n",
    "\n",
    "print(dff1,dff2)"
   ]
  },
  {
   "cell_type": "markdown",
   "metadata": {},
   "source": [
    "#### Central differences method "
   ]
  },
  {
   "cell_type": "code",
   "execution_count": 71,
   "metadata": {},
   "outputs": [
    {
     "name": "stdout",
     "output_type": "stream",
     "text": [
      "0.0940498100000936 -0.11799989999006222\n"
     ]
    }
   ],
   "source": [
    "dfc1 = (f(x+h) - f(x-h))/(2*h)\n",
    "dfc2 = (f(x+h) - 2*f(x) + f(x-h))/h**2\n",
    "\n",
    "print(dfc1,dfc2)"
   ]
  },
  {
   "cell_type": "markdown",
   "metadata": {},
   "source": [
    "#### Backward differences method"
   ]
  },
  {
   "cell_type": "code",
   "execution_count": 73,
   "metadata": {},
   "outputs": [
    {
     "name": "stdout",
     "output_type": "stream",
     "text": [
      "0.09410880995008863 -0.11685930301208458\n"
     ]
    }
   ],
   "source": [
    "dfc1 = (f(x) - f(x-h))/h\n",
    "dfc2 = (f(x) - 2*f(x-h) + f(x-2*h))/h**2\n",
    "\n",
    "print(dfc1,dfc2)"
   ]
  },
  {
   "cell_type": "code",
   "execution_count": null,
   "metadata": {},
   "outputs": [],
   "source": [
    "f = lambda x: 0.1*x**5 -0.2*x**3 + 0.1*x + 0.2\n",
    "\n",
    "h = 0.001\n",
    "x = 0.1\n",
    "\n",
    "\n",
    "dfc1 = (f(x+h) - f(x-h))/(2*h)\n",
    "dfc2 = (f(x+h) - 2*f(x) + f(x-h))/h**2\n",
    "\n",
    "print(dfc1,dfc2)"
   ]
  }
 ],
 "metadata": {
  "kernelspec": {
   "display_name": "Python 3 (ipykernel)",
   "language": "python",
   "name": "python3"
  },
  "language_info": {
   "codemirror_mode": {
    "name": "ipython",
    "version": 3
   },
   "file_extension": ".py",
   "mimetype": "text/x-python",
   "name": "python",
   "nbconvert_exporter": "python",
   "pygments_lexer": "ipython3",
   "version": "3.8.10"
  },
  "orig_nbformat": 4
 },
 "nbformat": 4,
 "nbformat_minor": 2
}
