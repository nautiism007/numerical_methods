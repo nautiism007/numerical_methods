{
 "cells": [
  {
   "cell_type": "code",
   "execution_count": 3,
   "metadata": {},
   "outputs": [],
   "source": [
    "import numpy as np\n",
    "import matplotlib.pyplot as plt"
   ]
  },
  {
   "cell_type": "markdown",
   "metadata": {},
   "source": [
    "Lagrange's method for interpolation\n",
    "\n",
    "For a three degree polynomial 4 datapoints are needed. \n",
    "\n",
    "\n",
    "$y(x) = \\sum_{i=1}^{n+1} y_{i}(\\prod_{j=1,j≠i}^{n+1}\\Large\\frac{(x-x_{j})}{(x_{i}-x_{j})})$ \n",
    "\n",
    "intuition: https://math.stackexchange.com/questions/81044/is-there-some-intuition-for-lagrange-interpolation-formula"
   ]
  },
  {
   "cell_type": "markdown",
   "metadata": {},
   "source": []
  },
  {
   "cell_type": "code",
   "execution_count": 4,
   "metadata": {},
   "outputs": [
    {
     "name": "stdout",
     "output_type": "stream",
     "text": [
      "50 66.94765625\n"
     ]
    }
   ],
   "source": [
    "x = [0, 20, 40, 60, 80, 100]\n",
    "y = [26.0, 48.6, 61.6, 71.2, 74.8, 75.2]\n",
    "\n",
    "\n",
    "m = len(x)\n",
    "n = m-1\n",
    "yp = 0\n",
    "xp = 50\n",
    "for i in range(n+1):\n",
    "    L = 1\n",
    "    for j in range(n+1):\n",
    "        if j!=i:\n",
    "            L*=   (xp - x[j])/(x[i]-x[j])\n",
    "    yp+=y[i]*L\n",
    "\n",
    "print(xp,yp)"
   ]
  },
  {
   "cell_type": "markdown",
   "metadata": {},
   "source": [
    "Lagrange interpolation for Volatility smile\n",
    "\n",
    "https://quant.stackexchange.com/questions/66156/difference-of-polynomial-interpolation-for-volatility-smile"
   ]
  },
  {
   "cell_type": "code",
   "execution_count": 5,
   "metadata": {},
   "outputs": [
    {
     "data": {
      "image/png": "[encoded data removed]",
      "text/plain": [
       "<Figure size 640x480 with 1 Axes>"
      ]
     },
     "metadata": {},
     "output_type": "display_data"
    }
   ],
   "source": [
    "from scipy.interpolate import lagrange\n",
    "\n",
    "x = np.array([10, 25, 50, 75, 90]) #LIST OF DELTA\n",
    "y = np.array([5.60, 5.40, 5.25, 5.28, 5.35])\n",
    "\n",
    "interpolation = lagrange(x, y)\n",
    "xpol = np.linspace(x[0], x[4], 90)\n",
    "ypol_lag = interpolation(xpol)\n",
    "plt.scatter(x, y, marker='s', c='r')\n",
    "plt.plot(xpol, ypol_lag, \"b\")\n",
    "plt.show()"
   ]
  },
  {
   "cell_type": "markdown",
   "metadata": {},
   "source": [
    "### Newton's interpolation method (Divided-Differences)\n",
    " \n",
    "Use data points to get a curve of the form below: \n",
    " \n",
    "$ y(x) = a_{0} + (x-x_{1})a_{1} + (x-x_{1})(x-x_{2})a_{2} + ... + (x-x_{1})(x-x_{2})..(x-x_{n})a_{n} $\n",
    "\n",
    "Finding all $a_{i}$ via reccursive polynomial generation method\n",
    "\n",
    "method: https://math.stackexchange.com/a/2337187"
   ]
  },
  {
   "cell_type": "code",
   "execution_count": 6,
   "metadata": {},
   "outputs": [
    {
     "name": "stdout",
     "output_type": "stream",
     "text": [
      "1.5 0.8999999999999999\n"
     ]
    }
   ],
   "source": [
    "x = [0.0,1.5,2.8,4.4,6.1,8.0]\n",
    "y = [0.0,0.9,2.5,6.6,7.7,8.0]\n",
    "n = len(x) -1\n",
    "\n",
    "Dy = np.zeros((n+1,n+1))\n",
    "\n",
    "Dy[:,0] = y\n",
    "for j in range(n):\n",
    "    for i in range(j+1,n+1):\n",
    "        Dy[i,j+1] = (Dy[i,j]-Dy[j,j])/(x[i]-x[j])\n",
    "\n",
    "xp = 1.5\n",
    "yp = Dy[0,0]\n",
    "for i in range(n):\n",
    "    xprod = 1\n",
    "    for j in range(i+1):\n",
    "        xprod *= xp - x[j]\n",
    "    yp += xprod * Dy[i+1,i+1]\n",
    "\n",
    "print(xp,yp)"
   ]
  },
  {
   "cell_type": "code",
   "execution_count": 9,
   "metadata": {},
   "outputs": [],
   "source": [
    "from scipy.interpolate import interp1d,lagrange\n",
    "x = [0, 20, 40, 60, 80, 100]\n",
    "y = [26.0, 48.6, 61.6, 71.2, 74.8, 75.2]\n",
    "\n",
    "f = interp1d(x,y)"
   ]
  },
  {
   "cell_type": "code",
   "execution_count": 10,
   "metadata": {},
   "outputs": [
    {
     "data": {
      "text/plain": [
       "array(66.4)"
      ]
     },
     "execution_count": 10,
     "metadata": {},
     "output_type": "execute_result"
    }
   ],
   "source": [
    "f(50)"
   ]
  },
  {
   "cell_type": "code",
   "execution_count": 11,
   "metadata": {},
   "outputs": [],
   "source": [
    "f = interp1d(x,y,'quadratic')"
   ]
  },
  {
   "cell_type": "code",
   "execution_count": 12,
   "metadata": {},
   "outputs": [
    {
     "data": {
      "text/plain": [
       "array(66.95208333)"
      ]
     },
     "execution_count": 12,
     "metadata": {},
     "output_type": "execute_result"
    }
   ],
   "source": [
    "f(50)"
   ]
  },
  {
   "cell_type": "code",
   "execution_count": null,
   "metadata": {},
   "outputs": [],
   "source": [
    "f = interp1d(x,y,'cublic')"
   ]
  }
 ],
 "metadata": {
  "kernelspec": {
   "display_name": "Python 3 (ipykernel)",
   "language": "python",
   "name": "python3"
  },
  "language_info": {
   "codemirror_mode": {
    "name": "ipython",
    "version": 3
   },
   "file_extension": ".py",
   "mimetype": "text/x-python",
   "name": "python",
   "nbconvert_exporter": "python",
   "pygments_lexer": "ipython3",
   "version": "3.8.10"
  },
  "orig_nbformat": 4
 },
 "nbformat": 4,
 "nbformat_minor": 2
}
